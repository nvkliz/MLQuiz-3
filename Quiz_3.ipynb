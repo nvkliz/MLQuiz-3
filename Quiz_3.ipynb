{
 "cells": [
  {
   "cell_type": "markdown",
   "metadata": {
    "deletable": false,
    "editable": false,
    "nbgrader": {
     "cell_type": "markdown",
     "checksum": "7fdc2d70b3fc4662b8e0c4b6233964f4",
     "grade": false,
     "grade_id": "cell-92e7e8833c18c06b",
     "locked": true,
     "schema_version": 3,
     "solution": false,
     "task": false
    }
   },
   "source": [
    "<div class=\"image\">\n",
    "\n",
    "  <img style=\"float: right;\" src=\"https://dx5i3n065oxey.cloudfront.net/platform/4186/assets/logo.png?v=2e76f927-9482-4bfb-9092-d9a0b595cd2c\" width=\"45%\" align=\"right\">\n",
    "      <h4>\n",
    "          <p style=\"font-size:20pt\">Programming for Business Analytics</p>\n",
    "          <p style=\"font-size:15pt\">Quiz 3</p>\n",
    "      </h4>\n",
    "</div>\n",
    "\n",
    "- Make sure you have executed the code in the cell below.\n",
    "- Make sure you read the questions carefully and follow the instructions.\n",
    "- Make sure you put the answers in the Answer cells.\n",
    "- Please do not put your answers in comments (after #).\n",
    "- Please do not add any new cells between the Question and Answer cells.\n",
    "- Please do not change the names of the variables in Answer cells.\n",
    "- Please do not assign the expected result directly to the variable."
   ]
  },
  {
   "cell_type": "markdown",
   "metadata": {
    "deletable": false,
    "editable": false,
    "id": "be393774ca54335242712dc008c7ea9ae7e9c067e97531985492f486598997d9",
    "nbgrader": {
     "cell_type": "markdown",
     "checksum": "4f19abe52ed48d22cbbc73415d5199ad",
     "grade": false,
     "grade_id": "cell-75c8d822b1f5423c",
     "locked": true,
     "schema_version": 3,
     "solution": false,
     "task": false
    }
   },
   "source": [
    "<div class=\"alert alert-warning\"> \n",
    "<b>QUESTION 1:</b>  \n",
    "<p>Which of the following statement is <b>correct</b>?</p>\n",
    "a) An exception is a function that does not run correctly.\n",
    "<br>\n",
    "b) The <code>raise</code> statement is used to raise an exception.\n",
    "<br>\n",
    "c) Multiple exceptions can not be put into a single <code>except</code> block.\n",
    "<br>\n",
    "d) The <code>finally</code> statement always runs after the execution of the code in the <code>try</code> block and before the <code>except</code> block.\n",
    "</div>"
   ]
  },
  {
   "cell_type": "code",
   "execution_count": null,
   "metadata": {
    "deletable": false,
    "nbgrader": {
     "cell_type": "code",
     "checksum": "d1101cf839fccdacfc6d7a70567d9b77",
     "grade": false,
     "grade_id": "cell-937aaccd562515a3",
     "locked": false,
     "schema_version": 3,
     "solution": true,
     "task": false
    }
   },
   "outputs": [],
   "source": [
    "###ANSWER(1). Please assign the letter representing the correct answer to the variable \n",
    "### (write it down between the \"\")\n",
    "answer= \"b\" # YOUR CODE SHOULD BE BETWEEN \"\""
   ]
  },
  {
   "cell_type": "code",
   "execution_count": null,
   "metadata": {
    "deletable": false,
    "editable": false,
    "nbgrader": {
     "cell_type": "code",
     "checksum": "4adbff7c0b1b265f0c6a9e055c502369",
     "grade": true,
     "grade_id": "cell-31daf3047ff67e87",
     "locked": true,
     "points": 10,
     "schema_version": 3,
     "solution": false,
     "task": false
    }
   },
   "outputs": [],
   "source": [
    "#Please leave this cell blank."
   ]
  },
  {
   "cell_type": "markdown",
   "metadata": {
    "deletable": false,
    "editable": false,
    "id": "7e3f9f76e86381e64acebfe1983c3d6e6ab7fd91f35617057bd8ade69756daa9",
    "nbgrader": {
     "cell_type": "markdown",
     "checksum": "76f248940a1db1c5b51491c38779e9b5",
     "grade": false,
     "grade_id": "cell-923f6c7b410d7bb7",
     "locked": true,
     "schema_version": 3,
     "solution": false,
     "task": false
    }
   },
   "source": [
    "<div class=\"alert alert-warning\">\n",
    "<b>QUESTION 2: </b>\n",
    "<p>Create a function called <code><b>cube_sum</b></code> which takes an integer as the argument. The function returns the sum of the cubes of all integers from 1 to the input integer (inclusive).</p>\n",
    "<br>\n",
    "<p>Execute <code><b>cube_sum(3)</b></code>, the expected output is <code>36</code> ($1^3+2^3+3^3$).</p>\n",
    "<p>Execute <code><b>cube_sum(10)</b></code>, the expected output is <code>3025</code>.</p>\n",
    "</div>"
   ]
  },
  {
   "cell_type": "code",
   "execution_count": 12,
   "metadata": {
    "deletable": false,
    "nbgrader": {
     "cell_type": "code",
     "checksum": "0b72a6eb2014a274f13954b557ec6a74",
     "grade": false,
     "grade_id": "cell-66c2e115248ad78c",
     "locked": false,
     "schema_version": 3,
     "solution": true,
     "task": false
    }
   },
   "outputs": [
    {
     "data": {
      "text/plain": [
       "36"
      ]
     },
     "execution_count": 12,
     "metadata": {},
     "output_type": "execute_result"
    }
   ],
   "source": [
    "###ANSWER(2). \n",
    "# Please write your code here.\n",
    "def cube_sum(num):\n",
    "    sum=0\n",
    "    x=1\n",
    "    for x in range(1,num+1):\n",
    "        sum=sum+x**3\n",
    "        x+=1\n",
    "    return sum\n",
    "cube_sum(3)\n",
    "    \n"
   ]
  },
  {
   "cell_type": "code",
   "execution_count": null,
   "metadata": {
    "deletable": false,
    "editable": false,
    "nbgrader": {
     "cell_type": "code",
     "checksum": "55b791407f82d415cfc8965cab181baa",
     "grade": true,
     "grade_id": "cell-ae562e941453c3ae",
     "locked": true,
     "points": 10,
     "schema_version": 3,
     "solution": false,
     "task": false
    }
   },
   "outputs": [],
   "source": [
    "#Please leave this cell blank."
   ]
  },
  {
   "cell_type": "markdown",
   "metadata": {
    "deletable": false,
    "editable": false,
    "id": "23a4f97ea4954f0689627c326ade24c4cb533ea2c8ebab2eeb6dd8570273c701",
    "nbgrader": {
     "cell_type": "markdown",
     "checksum": "db3d24317a704d4ed272facf249e7e7f",
     "grade": false,
     "grade_id": "cell-79a5977519c6fde4",
     "locked": true,
     "schema_version": 3,
     "solution": false,
     "task": false
    }
   },
   "source": [
    "<div class=\"alert alert-warning\"> \n",
    "<b>QUESTION 3:</b> \n",
    "<p>Use the <code><b>with</b></code> statement to create a file named <b>programming.txt</b> in the current directory and write <code>Learning Python is fun!</code> to the file.</p>    \n",
    "</div>"
   ]
  },
  {
   "cell_type": "code",
   "execution_count": 1,
   "metadata": {
    "deletable": false,
    "nbgrader": {
     "cell_type": "code",
     "checksum": "f2437bab26ced6fde496248e6c0aea15",
     "grade": false,
     "grade_id": "cell-b5dd809149ab0aaa",
     "locked": false,
     "schema_version": 3,
     "solution": true,
     "task": false
    }
   },
   "outputs": [],
   "source": [
    "###ANSWER(3). \n",
    "# Please write your code here.\n",
    "with open(\"programming.txt\", \"w\") as file:\n",
    "    file.write(\"Learning Python is fun!\")"
   ]
  },
  {
   "cell_type": "code",
   "execution_count": null,
   "metadata": {
    "deletable": false,
    "editable": false,
    "nbgrader": {
     "cell_type": "code",
     "checksum": "1b5ac8b04cfa0712c6edaed18ec631f2",
     "grade": true,
     "grade_id": "cell-1d1efe0c98761947",
     "locked": true,
     "points": 10,
     "schema_version": 3,
     "solution": false,
     "task": false
    }
   },
   "outputs": [],
   "source": [
    "#Please leave this cell blank."
   ]
  },
  {
   "cell_type": "markdown",
   "metadata": {
    "deletable": false,
    "editable": false,
    "id": "7dea823245ee49eacdcefc1de033b879ac3b8053a87c89a086a0c2167ad96675",
    "nbgrader": {
     "cell_type": "markdown",
     "checksum": "b06a5d4c15b96140db82d7d9df43e789",
     "grade": false,
     "grade_id": "cell-5cb246c5577e6aeb",
     "locked": true,
     "schema_version": 3,
     "solution": false,
     "task": false
    }
   },
   "source": [
    "<div class=\"alert alert-warning\">\n",
    "<b>QUESTION 4: </b>\n",
    "<p>Create a function called <code><b>name</b></code> which takes two strings (first name and last name) as the arguments. The function returns a new string that follows this pattern: <code>[first name][space][first letter of the last name][a dot]</code>.</p>\n",
    "<br>\n",
    "<p>Execute <code><b>name(\"Jane\", \"Smith\")</b></code>, the expected output is <code>'Jane S.'</code>.</p>\n",
    "<p>Execute <code><b>name(\"Jean-Luc\", \"Grand-Pierre\")</b></code>, the expected output is <code>'Jean-Luc G.'</code>.</p>\n",
    "</div>"
   ]
  },
  {
   "cell_type": "code",
   "execution_count": 33,
   "metadata": {
    "deletable": false,
    "nbgrader": {
     "cell_type": "code",
     "checksum": "2bb819a24141101890e4da8b599ac3f3",
     "grade": false,
     "grade_id": "cell-9782c3d8f15e8afc",
     "locked": false,
     "schema_version": 3,
     "solution": true,
     "task": false
    }
   },
   "outputs": [
    {
     "data": {
      "text/plain": [
       "'Jane S.'"
      ]
     },
     "execution_count": 33,
     "metadata": {},
     "output_type": "execute_result"
    }
   ],
   "source": [
    "###ANSWER(4).\n",
    "# Please write your code here.\n",
    "def name(fname,lname):\n",
    "    characters = lname[0]\n",
    "    return fname + \" \"+ characters+\".\"\n",
    "name(\"Jane\", \"Smith\")"
   ]
  },
  {
   "cell_type": "code",
   "execution_count": null,
   "metadata": {
    "deletable": false,
    "editable": false,
    "nbgrader": {
     "cell_type": "code",
     "checksum": "3638eb1d1bc4f59a65dcb398b5e93196",
     "grade": true,
     "grade_id": "cell-2e6a082dff726659",
     "locked": true,
     "points": 10,
     "schema_version": 3,
     "solution": false,
     "task": false
    }
   },
   "outputs": [],
   "source": [
    "#Please leave this cell blank."
   ]
  },
  {
   "cell_type": "markdown",
   "metadata": {
    "deletable": false,
    "editable": false,
    "id": "1d01d2a2868d227cfc00ddfbe07562d89f449ac7685d132b7349331efa6b4bf5",
    "nbgrader": {
     "cell_type": "markdown",
     "checksum": "a06dec49ae12922d1f1dfe65abfe5ac0",
     "grade": false,
     "grade_id": "cell-d4f7f3045b734b67",
     "locked": true,
     "schema_version": 3,
     "solution": false,
     "task": false
    }
   },
   "source": [
    "<div class=\"alert alert-warning\"> \n",
    "<b>QUESTION 5:</b> \n",
    "<p>Create a function called <code>largest_number_prob</code> which takes a list of numbers as the argument. The function returns the probability of getting the largest number when randomly draw one from the input list. Round the returned value to the nearest 2 decimal places.</p>\n",
    "<br>\n",
    "<p>Execute <code><b>largest_number_prob([1,2,3,4,5,6])</b></code>, the expected output is <code>0.17</code>.</p>\n",
    "<p>Execute <code><b>largest_number_prob([1,7,1,1])</b></code>, the expected output is <code>0.25</code>. </p>\n",
    "<p>Execute <code><b>largest_number_prob([3,3,2])</b></code>, the expected output is <code>0.67</code>.</p>\n",
    "<p>Execute <code><b>largest_number_prob([9.2,7.5,7.3,3.8,9.2,9.2,0.2])</b></code>, the expected output is <code>0.43</code>.</p>\n",
    "</div>"
   ]
  },
  {
   "cell_type": "code",
   "execution_count": 16,
   "metadata": {
    "deletable": false,
    "nbgrader": {
     "cell_type": "code",
     "checksum": "99314e66b2ec5a5e036bdad3c1e4347d",
     "grade": false,
     "grade_id": "cell-11d8f6a58c6cd7b3",
     "locked": false,
     "schema_version": 3,
     "solution": true,
     "task": false
    }
   },
   "outputs": [
    {
     "data": {
      "text/plain": [
       "0.17"
      ]
     },
     "execution_count": 16,
     "metadata": {},
     "output_type": "execute_result"
    }
   ],
   "source": [
    "###ANSWER(5). \n",
    "# Please write your code here.\n",
    "def largest_number_prob(x):\n",
    "    return round(1/len(x),2)\n",
    "\n",
    "largest_number_prob([1,2,3,4,5,6])"
   ]
  },
  {
   "cell_type": "code",
   "execution_count": null,
   "metadata": {
    "deletable": false,
    "editable": false,
    "nbgrader": {
     "cell_type": "code",
     "checksum": "acd7b523d5fac9de2a5d7370cbac6fd3",
     "grade": true,
     "grade_id": "cell-c8a67351fee9bc24",
     "locked": true,
     "points": 10,
     "schema_version": 3,
     "solution": false,
     "task": false
    }
   },
   "outputs": [],
   "source": [
    "#Please leave this cell blank."
   ]
  },
  {
   "cell_type": "markdown",
   "metadata": {
    "deletable": false,
    "editable": false,
    "id": "563664e609dd1fff79dee74eb7912d7f19c1e5550c797e2e840ca495e66cb057",
    "nbgrader": {
     "cell_type": "markdown",
     "checksum": "56ea803a33b06619aaa3f8ac2cab6a1d",
     "grade": false,
     "grade_id": "cell-d57d9d59821252e5",
     "locked": true,
     "schema_version": 3,
     "solution": false,
     "task": false
    }
   },
   "source": [
    "<div class=\"alert alert-warning\"> \n",
    "<b>QUESTION 6:</b> \n",
    "<p>Create a function called <code><b>most_freq</b></code> that takes a string as the argument. It returns the letter that appears most frequently in the string. If more than one letters appear equally most frequently, the function only needs to return any one of them. </p>\n",
    "<br>\n",
    "<p>Execute <code><b>most_freq(\"aviva\")</b></code>, the expected output is either <code>a</code> or <code>v</code>.</p>\n",
    "<p>Execute <code><b>most_freq(\"apple\")</b></code>, the expected output is <code>p</code>.</p>\n",
    "</div>"
   ]
  },
  {
   "cell_type": "code",
   "execution_count": 31,
   "metadata": {
    "deletable": false,
    "nbgrader": {
     "cell_type": "code",
     "checksum": "1efd4062f55775a2f1cdb1eca1705942",
     "grade": false,
     "grade_id": "cell-fa89b732e29c90b2",
     "locked": false,
     "schema_version": 3,
     "solution": true,
     "task": false
    }
   },
   "outputs": [
    {
     "data": {
      "text/plain": [
       "'a'"
      ]
     },
     "execution_count": 31,
     "metadata": {},
     "output_type": "execute_result"
    }
   ],
   "source": [
    "###ANSWER(6). \n",
    "# Please write your code here.\n",
    "import collections\n",
    "def most_freq(s):\n",
    "    return collections.Counter(s).most_common(1)[0][0]\n",
    "        \n",
    "most_freq(\"aviva\")\n",
    "    \n"
   ]
  },
  {
   "cell_type": "code",
   "execution_count": null,
   "metadata": {
    "deletable": false,
    "editable": false,
    "nbgrader": {
     "cell_type": "code",
     "checksum": "4fee4359ea24613072d2ced765e18685",
     "grade": true,
     "grade_id": "cell-e9defd6479df4184",
     "locked": true,
     "points": 10,
     "schema_version": 3,
     "solution": false,
     "task": false
    }
   },
   "outputs": [],
   "source": [
    "#Please leave this cell blank."
   ]
  },
  {
   "cell_type": "markdown",
   "metadata": {
    "deletable": false,
    "editable": false,
    "id": "1c00168c08b8fab9e08042fd536a7bfbfd9394bf2a2c5d60a57ecb67a6f0035e",
    "nbgrader": {
     "cell_type": "markdown",
     "checksum": "7eed6dda43e94642a8020b4514762de6",
     "grade": false,
     "grade_id": "cell-999187af83c9aed6",
     "locked": true,
     "schema_version": 3,
     "solution": false,
     "task": false
    }
   },
   "source": [
    "<div class=\"alert alert-warning\"> \n",
    "<b>QUESTION 7:</b> \n",
    "<p>Create a function called <code>common_elements</code> which takes two lists as the arguments. The function finds the common elements from the two lists and returns a list that contains them. There should be no duplicates in the reutrned list.</p>\n",
    "<p><b>DO NOT</b> convert lists to sets in the function.</p>\n",
    "<br>\n",
    "<p>Execute <code><b>common_elements([1,2,3],[3,4])</b></code>, the expected output is <code>[3]</code>. </p>\n",
    "<p>Execute <code><b>common_elements([1,2,2,3],[1,2,2])</b></code>, the expected output is <code>[1,2]</code>. </p>\n",
    "<p>Execute <code><b>common_elements([1,2,2,3],[4,5])</b></code>, the expected output is <code>[]</code>. </p>\n",
    "</div>"
   ]
  },
  {
   "cell_type": "code",
   "execution_count": 5,
   "metadata": {
    "deletable": false,
    "nbgrader": {
     "cell_type": "code",
     "checksum": "c17ac186376d6e2a3b9cc89525e4a273",
     "grade": false,
     "grade_id": "cell-e4846ccd95387c30",
     "locked": false,
     "schema_version": 3,
     "solution": true,
     "task": false
    }
   },
   "outputs": [
    {
     "ename": "UnboundLocalError",
     "evalue": "local variable 'm' referenced before assignment",
     "output_type": "error",
     "traceback": [
      "\u001b[0;31m---------------------------------------------------------------------------\u001b[0m",
      "\u001b[0;31mUnboundLocalError\u001b[0m                         Traceback (most recent call last)",
      "\u001b[0;32m/var/folders/_4/zvrb902564972kvcq0mnj6th0000gn/T/ipykernel_68031/4234696322.py\u001b[0m in \u001b[0;36m<module>\u001b[0;34m\u001b[0m\n\u001b[1;32m      8\u001b[0m                 \u001b[0mm\u001b[0m\u001b[0;34m+=\u001b[0m\u001b[0;36m1\u001b[0m\u001b[0;34m\u001b[0m\u001b[0;34m\u001b[0m\u001b[0m\n\u001b[1;32m      9\u001b[0m             \u001b[0;32mreturn\u001b[0m \u001b[0mlst\u001b[0m\u001b[0;34m\u001b[0m\u001b[0;34m\u001b[0m\u001b[0m\n\u001b[0;32m---> 10\u001b[0;31m \u001b[0mcommon_elements\u001b[0m\u001b[0;34m(\u001b[0m\u001b[0;34m[\u001b[0m\u001b[0;36m1\u001b[0m\u001b[0;34m,\u001b[0m\u001b[0;36m2\u001b[0m\u001b[0;34m,\u001b[0m\u001b[0;36m2\u001b[0m\u001b[0;34m,\u001b[0m\u001b[0;36m3\u001b[0m\u001b[0;34m]\u001b[0m\u001b[0;34m,\u001b[0m\u001b[0;34m[\u001b[0m\u001b[0;36m1\u001b[0m\u001b[0;34m,\u001b[0m\u001b[0;36m2\u001b[0m\u001b[0;34m,\u001b[0m\u001b[0;36m2\u001b[0m\u001b[0;34m]\u001b[0m\u001b[0;34m)\u001b[0m\u001b[0;34m\u001b[0m\u001b[0;34m\u001b[0m\u001b[0m\n\u001b[0m",
      "\u001b[0;32m/var/folders/_4/zvrb902564972kvcq0mnj6th0000gn/T/ipykernel_68031/4234696322.py\u001b[0m in \u001b[0;36mcommon_elements\u001b[0;34m(lst1, lst2)\u001b[0m\n\u001b[1;32m      4\u001b[0m         \u001b[0mlst\u001b[0m \u001b[0;34m=\u001b[0m \u001b[0;34m[\u001b[0m\u001b[0;34m]\u001b[0m\u001b[0;34m\u001b[0m\u001b[0;34m\u001b[0m\u001b[0m\n\u001b[1;32m      5\u001b[0m         \u001b[0;32mfor\u001b[0m \u001b[0mi\u001b[0m \u001b[0;32min\u001b[0m \u001b[0mlst1\u001b[0m\u001b[0;34m:\u001b[0m\u001b[0;34m\u001b[0m\u001b[0;34m\u001b[0m\u001b[0m\n\u001b[0;32m----> 6\u001b[0;31m             \u001b[0;32mif\u001b[0m \u001b[0mi\u001b[0m \u001b[0;34m==\u001b[0m \u001b[0mm\u001b[0m \u001b[0;32mand\u001b[0m \u001b[0mlst\u001b[0m\u001b[0;34m.\u001b[0m\u001b[0mcount\u001b[0m\u001b[0;34m(\u001b[0m\u001b[0mm\u001b[0m\u001b[0;34m)\u001b[0m\u001b[0;34m==\u001b[0m\u001b[0;36m0\u001b[0m\u001b[0;34m:\u001b[0m\u001b[0;34m\u001b[0m\u001b[0;34m\u001b[0m\u001b[0m\n\u001b[0m\u001b[1;32m      7\u001b[0m                 \u001b[0mlst\u001b[0m\u001b[0;34m.\u001b[0m\u001b[0mappend\u001b[0m\u001b[0;34m(\u001b[0m\u001b[0mi\u001b[0m\u001b[0;34m)\u001b[0m\u001b[0;34m\u001b[0m\u001b[0;34m\u001b[0m\u001b[0m\n\u001b[1;32m      8\u001b[0m                 \u001b[0mm\u001b[0m\u001b[0;34m+=\u001b[0m\u001b[0;36m1\u001b[0m\u001b[0;34m\u001b[0m\u001b[0;34m\u001b[0m\u001b[0m\n",
      "\u001b[0;31mUnboundLocalError\u001b[0m: local variable 'm' referenced before assignment"
     ]
    }
   ],
   "source": [
    "###ANSWER(7). \n",
    "# Please write your code here.\n",
    "def common_elements(lst1,lst2):\n",
    "        lst = []\n",
    "        for i in lst1:\n",
    "            if i == m and lst.count(m)==0:\n",
    "                lst.append(i)\n",
    "                m+=1\n",
    "            return lst\n",
    "common_elements([1,2,2,3],[1,2,2])"
   ]
  },
  {
   "cell_type": "code",
   "execution_count": null,
   "metadata": {
    "deletable": false,
    "editable": false,
    "nbgrader": {
     "cell_type": "code",
     "checksum": "5f50dc71c5f9d5bbc1428c98c863075a",
     "grade": true,
     "grade_id": "cell-85666037f3d07b0a",
     "locked": true,
     "points": 10,
     "schema_version": 3,
     "solution": false,
     "task": false
    }
   },
   "outputs": [],
   "source": [
    "#Please leave this cell blank."
   ]
  },
  {
   "cell_type": "markdown",
   "metadata": {
    "deletable": false,
    "editable": false,
    "id": "1a9c280e9743a0cd22938872b8c5357c1672670bffbc96c16f7eac346306854a",
    "nbgrader": {
     "cell_type": "markdown",
     "checksum": "000171d0726158460235573de789bc71",
     "grade": false,
     "grade_id": "cell-ca86b8d260684acd",
     "locked": true,
     "schema_version": 3,
     "solution": false,
     "task": false
    }
   },
   "source": [
    "<div class=\"alert alert-warning\">\n",
    "<b>QUESTION 8: </b>\n",
    "<p>Create a function called <code><b>change_extension</b></code> which takes a list of file names as the argument. The function changes files with the extension <code>ipynb</code> to the extension <code>py</code> and returns the list of file names.</p>\n",
    "<br>\n",
    "<p>Execute <code><b>change_extension([\"program.ipynb\", \"ucl.ipynb\", \"exam.py\"])</b></code>, the expected output is <code>['program.py', 'ucl.py', 'exam.py']</code>.</p>\n",
    "<p>Execute <code><b>change_extension([\"program.json\", \"ucl.ipynb\", \"exam.py\"])</b></code>, the expected output is <code>['program.json', 'ucl.py', 'exam.py']</code>.</p>\n",
    "</div>"
   ]
  },
  {
   "cell_type": "code",
   "execution_count": null,
   "metadata": {
    "deletable": false,
    "nbgrader": {
     "cell_type": "code",
     "checksum": "2c13ddce682fcb71b00d7141e339582c",
     "grade": false,
     "grade_id": "cell-d9e31671065a4686",
     "locked": false,
     "schema_version": 3,
     "solution": true,
     "task": false
    }
   },
   "outputs": [],
   "source": [
    "###ANSWER(8). \n",
    "# Please write your code here.\n",
    "def change_extension\n"
   ]
  },
  {
   "cell_type": "code",
   "execution_count": null,
   "metadata": {
    "deletable": false,
    "editable": false,
    "nbgrader": {
     "cell_type": "code",
     "checksum": "a831f70a3a52aa8cae28307233ce2838",
     "grade": true,
     "grade_id": "cell-0c50ed966c9e3a9f",
     "locked": true,
     "points": 10,
     "schema_version": 3,
     "solution": false,
     "task": false
    }
   },
   "outputs": [],
   "source": [
    "#Please leave this cell blank."
   ]
  },
  {
   "cell_type": "markdown",
   "metadata": {
    "deletable": false,
    "editable": false,
    "id": "83089b6595b5434813bc31fdc699249135614a4c1a4f0d495c211ecf92921427",
    "nbgrader": {
     "cell_type": "markdown",
     "checksum": "2b8f9b751a6da73948d2be2d3d36b23f",
     "grade": false,
     "grade_id": "cell-bcdbcb877637201f",
     "locked": true,
     "schema_version": 3,
     "solution": false,
     "task": false
    }
   },
   "source": [
    "<div class=\"alert alert-warning\"> \n",
    "<b>QUESTION 9:</b> \n",
    "<p>Create a function called <code>check_factors_exist</code> that takes a list and a number as the arguments. The function returns the boolean value <code>True</code> if there are two numbers in the list that can be multiplied to get the input number, and returns <code>False</code> otherwise.</p>\n",
    "<br>\n",
    "<p>Execute <code><b>check_factors_exist([1,2,3],6)</b></code>, the expected output is <code>True</code>.</p>\n",
    "<p>Execute <code><b>check_factors_exist([1,2,3,4,5],25)</b></code>, the expected output is <code>False</code> since there is only one <code>5</code> in the list while <code>25</code> requires two <code>5</code> to be multiplied.</p>\n",
    "</div>"
   ]
  },
  {
   "cell_type": "code",
   "execution_count": null,
   "metadata": {
    "deletable": false,
    "nbgrader": {
     "cell_type": "code",
     "checksum": "50055f65b9db635455495bad804cc344",
     "grade": false,
     "grade_id": "cell-6937eedf2e4a0601",
     "locked": false,
     "schema_version": 3,
     "solution": true,
     "task": false
    }
   },
   "outputs": [],
   "source": [
    "###ANSWER(9). \n",
    "# Please write your code here.\n",
    "def check_factors_exist(lst,num):\n",
    "    if num is in lst:\n",
    "        \n"
   ]
  },
  {
   "cell_type": "code",
   "execution_count": null,
   "metadata": {
    "deletable": false,
    "editable": false,
    "nbgrader": {
     "cell_type": "code",
     "checksum": "702df567f696f16c0dc37afae449ec1a",
     "grade": true,
     "grade_id": "cell-b937b0c816e6f003",
     "locked": true,
     "points": 10,
     "schema_version": 3,
     "solution": false,
     "task": false
    }
   },
   "outputs": [],
   "source": [
    "#Please leave this cell blank."
   ]
  },
  {
   "cell_type": "markdown",
   "metadata": {
    "deletable": false,
    "editable": false,
    "id": "2ba9bf8887a41a6d7e38ebe71b7286beba4387e0a15a214f345bd2824d502cca",
    "nbgrader": {
     "cell_type": "markdown",
     "checksum": "6ea6238828a141ac279b827c4ba11edd",
     "grade": false,
     "grade_id": "cell-4f7670f96137b649",
     "locked": true,
     "schema_version": 3,
     "solution": false,
     "task": false
    }
   },
   "source": [
    "<div class=\"alert alert-warning\"> \n",
    "<b>QUESTION 10:</b> \n",
    "<p>Create a function called <code><b>pattern_check</b></code> which takes two strings as the arguments. The function returns the boolean value <code>True</code> if the two strings follow the same pattern and returns <code>False</code> otherwise.</p>\n",
    "<p>For example, <code>\"abbc\"</code> and <code>\"eaab\"</code> follow the same pattern; <code>\"apple\"</code> and <code>\"accur\"</code> follow the same pattern; <code>\"mum\"</code> and <code>\"dad\"</code> follow the same pattern.</p>\n",
    "<br>\n",
    "<p>Execute <code><b>pattern_check(\"apple\", \"accur\")</b></code>, the expected output is <code>True</code>.</p>\n",
    "<p>Execute <code><b>pattern_check(\"mum\", \"dad\")</b></code>, the expected output is <code>True</code>.</p>\n",
    "<p>Execute <code><b>pattern_check(\"abcd\", \"qres\")</b></code>, the expected output is <code>True</code>.</p>\n",
    "<p>Execute <code><b>pattern_check(\"reec\", \"qrrb\")</b></code>, the expected output is <code>True</code>.</p>\n",
    "<p>Execute <code><b>pattern_check(\"aba\", \"dcf\")</b></code>, the expected output is <code>False</code>.</p>\n",
    "<p>Execute <code><b>pattern_check(\"apple\", \"peach\")</b></code>, the expected output is <code>False</code>.</p>\n",
    "<p>Execute <code><b>pattern_check(\"aee\", \"aeeb\")</b></code>, the expected output is <code>False</code>.</p>\n",
    "</div>"
   ]
  },
  {
   "cell_type": "code",
   "execution_count": null,
   "metadata": {
    "deletable": false,
    "nbgrader": {
     "cell_type": "code",
     "checksum": "6d0ccbf79bc10435319c51f132bd08e1",
     "grade": false,
     "grade_id": "cell-e1a7c7d9d2eb0cb6",
     "locked": false,
     "schema_version": 3,
     "solution": true,
     "task": false
    }
   },
   "outputs": [],
   "source": [
    "###ANSWER(10). \n",
    "# Please write your code here.\n",
    "def pattern_check\n"
   ]
  },
  {
   "cell_type": "code",
   "execution_count": null,
   "metadata": {
    "deletable": false,
    "editable": false,
    "nbgrader": {
     "cell_type": "code",
     "checksum": "0a5cb0d725a40d3832f85d2873a68dc0",
     "grade": true,
     "grade_id": "cell-cac6955e277f7d44",
     "locked": true,
     "points": 10,
     "schema_version": 3,
     "solution": false,
     "task": false
    }
   },
   "outputs": [],
   "source": [
    "#Please leave this cell blank."
   ]
  }
 ],
 "metadata": {
  "kernelspec": {
   "display_name": "Python 3 (ipykernel)",
   "language": "python",
   "name": "python3"
  },
  "language_info": {
   "codemirror_mode": {
    "name": "ipython",
    "version": 3
   },
   "file_extension": ".py",
   "mimetype": "text/x-python",
   "name": "python",
   "nbconvert_exporter": "python",
   "pygments_lexer": "ipython3",
   "version": "3.9.7"
  }
 },
 "nbformat": 4,
 "nbformat_minor": 4
}
