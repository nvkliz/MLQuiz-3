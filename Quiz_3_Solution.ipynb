{
 "cells": [
  {
   "cell_type": "markdown",
   "metadata": {},
   "source": [
    "<div class=\"image\">\n",
    "\n",
    "  <img style=\"float: right;\" src=\"https://dx5i3n065oxey.cloudfront.net/platform/4186/assets/logo.png?v=2e76f927-9482-4bfb-9092-d9a0b595cd2c\" width=\"45%\" align=\"right\">\n",
    "      <h4>\n",
    "          <p style=\"font-size:20pt\">Programming for Business Analytics</p>\n",
    "          <p style=\"font-size:15pt\">Quiz 3</p>\n",
    "      </h4>\n",
    "</div>\n",
    "\n",
    "- Make sure you have executed the code in the cell below.\n",
    "- Make sure you read the questions carefully and follow the instructions.\n",
    "- Make sure you put the answers in the Answer cells.\n",
    "- Please do not put your answers in comments (after #).\n",
    "- Please do not add any new cells between the Question and Answer cells.\n",
    "- Please do not change the names of the variables in Answer cells.\n",
    "- Please do not assign the expected result directly to the variable."
   ]
  },
  {
   "cell_type": "markdown",
   "metadata": {
    "id": "be393774ca54335242712dc008c7ea9ae7e9c067e97531985492f486598997d9"
   },
   "source": [
    "<div class=\"alert alert-warning\"> \n",
    "<b>QUESTION 1:</b>  \n",
    "<p>Which of the following statement is <b>correct</b>?</p>\n",
    "a) An exception is a function that does not run correctly.\n",
    "<br>\n",
    "b) The <code>raise</code> statement is used to raise an exception.\n",
    "<br>\n",
    "c) Multiple exceptions can not be put into a single <code>except</code> block.\n",
    "<br>\n",
    "d) The <code>finally</code> statement always runs after the execution of the code in the <code>try</code> block and before the <code>except</code> block.\n",
    "</div>"
   ]
  },
  {
   "cell_type": "code",
   "execution_count": null,
   "metadata": {},
   "outputs": [],
   "source": [
    "###ANSWER(1). Please assign the letter representing the correct answer to the variable \n",
    "### (write it down between the \"\")\n",
    "answer = 'b'"
   ]
  },
  {
   "cell_type": "markdown",
   "metadata": {
    "id": "7e3f9f76e86381e64acebfe1983c3d6e6ab7fd91f35617057bd8ade69756daa9"
   },
   "source": [
    "<div class=\"alert alert-warning\">\n",
    "<b>QUESTION 2: </b>\n",
    "<p>Create a function called <code><b>cube_sum</b></code> which takes an integer as the argument. The function returns the sum of the cubes of all integers from 1 to the input integer (inclusive).</p>\n",
    "<br>\n",
    "<p>Execute <code><b>cube_sum(3)</b></code>, the expected output is <code>36</code> ($1^3+2^3+3^3$).</p>\n",
    "<p>Execute <code><b>cube_sum(10)</b></code>, the expected output is <code>3025</code>.</p>\n",
    "</div>"
   ]
  },
  {
   "cell_type": "code",
   "execution_count": null,
   "metadata": {},
   "outputs": [],
   "source": [
    "###ANSWER(2). \n",
    "# Please write your code here.\n",
    "def cube_sum(n):\n",
    "    return sum([i**3 for i in range(1, n+1)])"
   ]
  },
  {
   "cell_type": "markdown",
   "metadata": {
    "id": "23a4f97ea4954f0689627c326ade24c4cb533ea2c8ebab2eeb6dd8570273c701"
   },
   "source": [
    "<div class=\"alert alert-warning\"> \n",
    "<b>QUESTION 3:</b> \n",
    "<p>Use the <code><b>with</b></code> statement to create a file named <b>programming.txt</b> in the current directory and write <code>Learning Python is fun!</code> to the file.</p>    \n",
    "</div>"
   ]
  },
  {
   "cell_type": "code",
   "execution_count": null,
   "metadata": {},
   "outputs": [],
   "source": [
    "###ANSWER(3). \n",
    "with open(\"programming.txt\", \"w\") as file:\n",
    "    file.write(\"Learning Python is fun!\")"
   ]
  },
  {
   "cell_type": "markdown",
   "metadata": {
    "id": "7dea823245ee49eacdcefc1de033b879ac3b8053a87c89a086a0c2167ad96675"
   },
   "source": [
    "<div class=\"alert alert-warning\">\n",
    "<b>QUESTION 4: </b>\n",
    "<p>Create a function called <code><b>name</b></code> which takes two strings (first name and last name) as the arguments. The function returns a new string that follows this pattern: <code>[first name][space][first letter of the last name][a dot]</code>.</p>\n",
    "<br>\n",
    "<p>Execute <code><b>name(\"Jane\", \"Smith\")</b></code>, the expected output is <code>'Jane S.'</code>.</p>\n",
    "<p>Execute <code><b>name(\"Jean-Luc\", \"Grand-Pierre\")</b></code>, the expected output is <code>'Jean-Luc G.'</code>.</p>\n",
    "</div>"
   ]
  },
  {
   "cell_type": "code",
   "execution_count": null,
   "metadata": {},
   "outputs": [],
   "source": [
    "###ANSWER(4).\n",
    "# Please write your code here.\n",
    "def name(first_name, last_name):\n",
    "    return first_name+' '+last_name[0]+'.'"
   ]
  },
  {
   "cell_type": "markdown",
   "metadata": {
    "id": "1d01d2a2868d227cfc00ddfbe07562d89f449ac7685d132b7349331efa6b4bf5"
   },
   "source": [
    "<div class=\"alert alert-warning\"> \n",
    "<b>QUESTION 5:</b> \n",
    "<p>Create a function called <code>largest_number_prob</code> which takes a list of numbers as the argument. The function returns the probability of getting the largest number when randomly draw one from the input list. Round the returned value to the nearest 2 decimal places.</p>\n",
    "<br>\n",
    "<p>Execute <code><b>largest_number_prob([1,2,3,4,5,6])</b></code>, the expected output is <code>0.17</code>.</p>\n",
    "<p>Execute <code><b>largest_number_prob([1,7,1,1])</b></code>, the expected output is <code>0.25</code>. </p>\n",
    "<p>Execute <code><b>largest_number_prob([3,3,2])</b></code>, the expected output is <code>0.67</code>.</p>\n",
    "<p>Execute <code><b>largest_number_prob([9.2,7.5,7.3,3.8,9.2,9.2,0.2])</b></code>, the expected output is <code>0.43</code>.</p>\n",
    "</div>"
   ]
  },
  {
   "cell_type": "code",
   "execution_count": 1,
   "metadata": {},
   "outputs": [],
   "source": [
    "###ANSWER(5). \n",
    "# Please write your code here.\n",
    "def largest_number_prob(lst):\n",
    "    return round(lst.count(max(lst))/len(lst),2)"
   ]
  },
  {
   "cell_type": "markdown",
   "metadata": {
    "id": "563664e609dd1fff79dee74eb7912d7f19c1e5550c797e2e840ca495e66cb057"
   },
   "source": [
    "<div class=\"alert alert-warning\"> \n",
    "<b>QUESTION 6:</b> \n",
    "<p>Create a function called <code><b>most_freq</b></code> that takes a string as the argument. It returns the letter that appears most frequently in the string. If more than one letters appear equally most frequently, the function only needs to return any one of them. </p>\n",
    "<br>\n",
    "<p>Execute <code><b>most_freq(\"aviva\")</b></code>, the expected output is either <code>a</code> or <code>v</code>.</p>\n",
    "<p>Execute <code><b>most_freq(\"apple\")</b></code>, the expected output is <code>p</code>.</p>\n",
    "</div>"
   ]
  },
  {
   "cell_type": "code",
   "execution_count": null,
   "metadata": {},
   "outputs": [],
   "source": [
    "###ANSWER(6). \n",
    "# Please write your code here.\n",
    "def most_freq(x):\n",
    "    most_freq_letter = x[0]\n",
    "    max_count = x.count(x[0])\n",
    "    for i in x:\n",
    "        if x.count(i) >= max_count:\n",
    "            most_freq_letter = i\n",
    "            max_count = x.count(i)\n",
    "    return most_freq_letter"
   ]
  },
  {
   "cell_type": "markdown",
   "metadata": {
    "id": "1c00168c08b8fab9e08042fd536a7bfbfd9394bf2a2c5d60a57ecb67a6f0035e"
   },
   "source": [
    "<div class=\"alert alert-warning\"> \n",
    "<b>QUESTION 7:</b> \n",
    "<p>Create a function called <code>common_elements</code> which takes two lists as the arguments. The function finds the common elements from the two lists and returns a list that contains them. There should be no duplicates in the reutrned list.</p>\n",
    "<p><b>DO NOT</b> convert lists to sets in the function.</p>\n",
    "<br>\n",
    "<p>Execute <code><b>common_elements([1,2,3],[3,4])</b></code>, the expected output is <code>[3]</code>. </p>\n",
    "<p>Execute <code><b>common_elements([1,2,2,3],[1,2,2])</b></code>, the expected output is <code>[1,2]</code>. </p>\n",
    "<p>Execute <code><b>common_elements([1,2,2,3],[4,5])</b></code>, the expected output is <code>[]</code>. </p>\n",
    "</div>"
   ]
  },
  {
   "cell_type": "code",
   "execution_count": null,
   "metadata": {},
   "outputs": [],
   "source": [
    "###ANSWER(7). \n",
    "# Please write your code here.\n",
    "def common_elements(lst1, lst2):\n",
    "    common_list = [i for i in lst1 if i in lst2]\n",
    "    common_list_unique = []\n",
    "    for i in common_list:\n",
    "        if not i in common_list_unique:\n",
    "            common_list_unique.append(i)\n",
    "    return common_list_unique"
   ]
  },
  {
   "cell_type": "markdown",
   "metadata": {
    "id": "1a9c280e9743a0cd22938872b8c5357c1672670bffbc96c16f7eac346306854a"
   },
   "source": [
    "<div class=\"alert alert-warning\">\n",
    "<b>QUESTION 8: </b>\n",
    "<p>Create a function called <code><b>change_extension</b></code> which takes a list of file names as the argument. The function changes files with the extension <code>ipynb</code> to the extension <code>py</code> and returns the list of file names.</p>\n",
    "<br>\n",
    "<p>Execute <code><b>change_extension([\"program.ipynb\", \"ucl.ipynb\", \"exam.py\"])</b></code>, the expected output is <code>['program.py', 'ucl.py', 'exam.py']</code>.</p>\n",
    "<p>Execute <code><b>change_extension([\"program.json\", \"ucl.ipynb\", \"exam.py\"])</b></code>, the expected output is <code>['program.json', 'ucl.py', 'exam.py']</code>.</p>\n",
    "</div>"
   ]
  },
  {
   "cell_type": "code",
   "execution_count": null,
   "metadata": {},
   "outputs": [],
   "source": [
    "###ANSWER(8). \n",
    "# Please write your code here.\n",
    "def change_extension(filenames):\n",
    "    newfilenames = []\n",
    "    for file in filenames:\n",
    "        if file[-6:] == '.ipynb':\n",
    "            newfilenames.append((file[:-5]+'py'))\n",
    "        else:\n",
    "            newfilenames.append(file)\n",
    "    return newfilenames"
   ]
  },
  {
   "cell_type": "code",
   "execution_count": null,
   "metadata": {},
   "outputs": [],
   "source": [
    "#Please leave this cell blank.\n",
    "### BEGIN HIDDEN TESTS\n",
    "assert change_extension([\"ipynb.ipynb\"]) == [\"ipynb.py\"]\n",
    "assert change_extension([\"py.ipynb\",'ipynb.py']) == ['py.py', 'ipynb.py']\n",
    "assert change_extension([\"program.ipynb\", \"ucl.ipynb\", \"exam.ipi\",\"test.hpp\", \"math.docx\", \"python.py\"]) == ['program.py', 'ucl.py', 'exam.ipi', 'test.hpp', 'math.docx', 'python.py']\n",
    "\n",
    "### END HIDDEN TESTS"
   ]
  },
  {
   "cell_type": "markdown",
   "metadata": {
    "id": "83089b6595b5434813bc31fdc699249135614a4c1a4f0d495c211ecf92921427"
   },
   "source": [
    "<div class=\"alert alert-warning\"> \n",
    "<b>QUESTION 9:</b> \n",
    "<p>Create a function called <code>check_factors_exist</code> that takes a list and a number as the arguments. The function returns the boolean value <code>True</code> if there are two numbers in the list that can be multiplied to get the input number, and returns <code>False</code> otherwise.</p>\n",
    "<br>\n",
    "<p>Execute <code><b>check_factors_exist([1,2,3],6)</b></code>, the expected output is <code>True</code>.</p>\n",
    "<p>Execute <code><b>check_factors_exist([1,2,3,4,5],25)</b></code>, the expected output is <code>False</code> since there is only one <code>5</code> in the list while <code>25</code> requires two <code>5</code> to be multiplied.</p>\n",
    "</div>"
   ]
  },
  {
   "cell_type": "code",
   "execution_count": null,
   "metadata": {},
   "outputs": [],
   "source": [
    "###ANSWER(9). \n",
    "def check_factors_exist(lst, n):\n",
    "    for i in range(len(lst)):\n",
    "        if n/lst[i] in lst[:i] or n/lst[i] in lst[i+1:]:\n",
    "            return True\n",
    "    return False"
   ]
  },
  {
   "cell_type": "markdown",
   "metadata": {
    "id": "2ba9bf8887a41a6d7e38ebe71b7286beba4387e0a15a214f345bd2824d502cca"
   },
   "source": [
    "<div class=\"alert alert-warning\"> \n",
    "<b>QUESTION 10:</b> \n",
    "<p>Create a function called <code><b>pattern_check</b></code> which takes two strings as the arguments. The function returns <code>True</code> if the two strings follow the same pattern and returns <code>False</code> otherwise.</p>\n",
    "<p>For example, <code>\"abbc\"</code> and <code>\"eaab\"</code> follow the same pattern; <code>\"apple\"</code> and <code>\"accur\"</code> follow the same pattern; <code>\"mum\"</code> and <code>\"dad\"</code> follow the same pattern.</p>\n",
    "<br>\n",
    "<p>Execute <code><b>pattern_check(\"apple\", \"accur\")</b></code>, the expected output is <code>True</code>.</p>\n",
    "<p>Execute <code><b>pattern_check(\"mum\", \"dad\")</b></code>, the expected output is <code>True</code>.</p>\n",
    "<p>Execute <code><b>pattern_check(\"abcd\", \"qres\")</b></code>, the expected output is <code>True</code>.</p>\n",
    "<p>Execute <code><b>pattern_check(\"reec\", \"qrrb\")</b></code>, the expected output is <code>True</code>.</p>\n",
    "<p>Execute <code><b>pattern_check(\"aba\", \"dcf\")</b></code>, the expected output is <code>False</code>.</p>\n",
    "<p>Execute <code><b>pattern_check(\"apple\", \"peach\")</b></code>, the expected output is <code>False</code>.</p>\n",
    "<p>Execute <code><b>pattern_check(\"aee\", \"aeeb\")</b></code>, the expected output is <code>False</code>.</p>\n",
    "</div>"
   ]
  },
  {
   "cell_type": "code",
   "execution_count": null,
   "metadata": {},
   "outputs": [],
   "source": [
    "###ANSWER(10). \n",
    "def pattern_check(s1, s2):\n",
    "    if len(s1)!=len(s2):\n",
    "        return False\n",
    "    unique_letter_list_1 = []\n",
    "    unique_letter_list_2 = []\n",
    "    for i in range(len(s1)):\n",
    "        if s1[i] not in unique_letter_list_1 and s2[i] not in unique_letter_list_2:\n",
    "            unique_letter_list_1.append(s1[i])\n",
    "            unique_letter_list_2.append(s2[i])\n",
    "        elif s1[i] in unique_letter_list_1 and s2[i]!= unique_letter_list_2[unique_letter_list_1.index(s1[i])]:\n",
    "            return False\n",
    "        elif s2[i] in unique_letter_list_2 and s1[i]!= unique_letter_list_1[unique_letter_list_2.index(s2[i])]:\n",
    "            return False\n",
    "    return True"
   ]
  }
 ],
 "metadata": {
  "kernelspec": {
   "display_name": "Python 3 (ipykernel)",
   "language": "python",
   "name": "python3"
  },
  "language_info": {
   "codemirror_mode": {
    "name": "ipython",
    "version": 3
   },
   "file_extension": ".py",
   "mimetype": "text/x-python",
   "name": "python",
   "nbconvert_exporter": "python",
   "pygments_lexer": "ipython3",
   "version": "3.9.7"
  }
 },
 "nbformat": 4,
 "nbformat_minor": 4
}
